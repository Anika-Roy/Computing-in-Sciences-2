{
 "cells": [
  {
   "cell_type": "markdown",
   "metadata": {},
   "source": [
    "***\n",
    "<a id='lesson-9'></a>\n",
    "# Epicycle: a circle rolling over another circle\n",
    "***\n",
    "\n",
    "Circle moving on other circle is a frequent motif in the models of planetary model.  For example, imagine descirbing the motion of moon; in a helio-centric model, moon circles earth while the earth circles around the sun. \n",
    "\n",
    "Fourier showed that ANY curve can be described as a motion of a circle which is moving on another circle, which is moving on another circle and so on. In this lesson, we will explore the Fourier analysis using complex numbers.\n",
    "\n",
    "We want to model a closed curve in two dimensions; as a simplistic example, consider a circle with center at origin given by $x^2 + y^2 = c^2$, with $c$ being the radius of the circle. Of specific interest is the parametric description with parameter $t$, the circle has following parametric description: $x(t) = c \\cos(t)$ and $y(t) = c \\sin(t)$. The complex number description of this parametrization is given by $z(t) = c \\exp(j t)$ where $j= \\sqrt{-1}$. \n",
    "\n",
    "Let us consider:  $z(t) = c e^{jt}$, this has $z(t) = z(t+ 2 \\pi)$, i.e. with a period of $2\\pi$ any point returns to itself. \n",
    "\n",
    "Now consider: $z(t) = c e^{njt}$, this has $z(t) = z(t + 2\\pi/n)$, i.e. with a period of $2\\pi/n$ evey point returns to itself. \n",
    "\n",
    "For the sake of having a period 1 unit of time and fractions of it, we will consider $z(t) = c e^{2\\pi n j t}$, which has a period of 1/n unit of time.\n"
   ]
  },
  {
   "cell_type": "code",
   "execution_count": 1,
   "metadata": {},
   "outputs": [],
   "source": [
    "import cmath"
   ]
  },
  {
   "cell_type": "markdown",
   "metadata": {},
   "source": [
    "See python documentation for `cmath` at https://docs.python.org/3.5/library/cmath.html"
   ]
  },
  {
   "cell_type": "markdown",
   "metadata": {},
   "source": [
    "Note the small gap in the circle (right figure above). This is by construction, via tvals!"
   ]
  },
  {
   "cell_type": "markdown",
   "metadata": {},
   "source": [
    "Consider an epicycle given by: $z(t) = c_1 e^{2\\pi jt} + c_2 e^{30*2\\pi jt}$"
   ]
  },
  {
   "cell_type": "markdown",
   "metadata": {},
   "source": [
    "Above curve become more smoother as number of points (here 201) is increased!"
   ]
  },
  {
   "cell_type": "markdown",
   "metadata": {},
   "source": [
    "Notice the gap, due to tvals."
   ]
  },
  {
   "cell_type": "code",
   "execution_count": 2,
   "metadata": {},
   "outputs": [],
   "source": [
    "def z(t):\n",
    "    return 1 * numpy.exp(2j*1*math.pi*t) + 0.5*numpy.exp(2j*-1*math.pi*t)"
   ]
  },
  {
   "cell_type": "code",
   "execution_count": 3,
   "metadata": {},
   "outputs": [],
   "source": [
    "m=1000\n",
    "ts = [i*1.0/m for i in range(m)]"
   ]
  },
  {
   "cell_type": "code",
   "execution_count": 4,
   "metadata": {},
   "outputs": [],
   "source": [
    "import matplotlib.pyplot\n",
    "import math\n",
    "import numpy"
   ]
  },
  {
   "cell_type": "code",
   "execution_count": 5,
   "metadata": {},
   "outputs": [],
   "source": [
    "l1 = [[],[]]\n",
    "for i in range(m):\n",
    "    l1[0].append(numpy.real(z(ts[i])))\n",
    "    l1[1].append(numpy.imag(z(ts[i])))"
   ]
  },
  {
   "cell_type": "code",
   "execution_count": 6,
   "metadata": {},
   "outputs": [
    {
     "data": {
      "text/plain": [
       "[<matplotlib.lines.Line2D at 0x20405a53610>]"
      ]
     },
     "execution_count": 6,
     "metadata": {},
     "output_type": "execute_result"
    },
    {
     "data": {
      "image/png": "[encoded data removed]",
      "text/plain": [
       "<Figure size 432x288 with 1 Axes>"
      ]
     },
     "metadata": {
      "needs_background": "light"
     },
     "output_type": "display_data"
    }
   ],
   "source": [
    "matplotlib.pyplot.plot(l1[0],l1[1])"
   ]
  },
  {
   "cell_type": "markdown",
   "metadata": {},
   "source": [
    "Consider that there are a series of observations $\\vec{r}_i= (x_i,y_i),\\, i\\in[1,N]$. We will form the closed curve by $\\vec{r}_{N+i} = \\vec{r}_i$. We want to find a epicyclic desription of the complex function $z(t)$ such that for $t_i=\\tau*i$, we have $z(t_i)=(x_i,y_i)$.  That is, we want to find a description\n",
    "$$  z(t) = \\sum_n c_n * e^{2 \\pi j~n~t} \\tag{eq:1}\n",
    "$$\n",
    "where the coefficient $c_n$ can be a complex number, and $n \\in \\mathcal{Z}$; later we will show that \n",
    "$\\tau = \\frac{1}{N}$.\n",
    "\n",
    "Lets try formulate the problem. Given $z_i \\forall i \\in [1,N]$, with $z_i \\equiv z(t_i)$, find $c_n$ in the Equation eq:1 above. \n",
    "\n",
    "Solution: Consider $$z(t)*e^{- 2\\pi j m t} = \\sum_n c_n * e^{2 \\pi j~(n-m)~t}$$\n",
    "then integrating on both sides from $t=0$ $t=1$, gives us \n",
    "$$ \\int_0^1 dt~z(t)*e^{- 2\\pi j m t} = c_m \\implies c_m = \\tau \\sum_{i=1}^{N} z_i*e^{-2\\pi j m~i \\tau}\n",
    "$$\n",
    "Typically $c_n$ is found for $|n| \\le n_{max}$ i.e. $n \\in [-n_{max}, \\cdots, 0 , \\cdots, -n_{max}]$"
   ]
  },
  {
   "cell_type": "markdown",
   "metadata": {},
   "source": [
    "Lets try on the following example: `curve_para-1-v2.dat`"
   ]
  },
  {
   "cell_type": "code",
   "execution_count": null,
   "metadata": {},
   "outputs": [],
   "source": []
  },
  {
   "cell_type": "code",
   "execution_count": null,
   "metadata": {},
   "outputs": [],
   "source": []
  },
  {
   "cell_type": "markdown",
   "metadata": {},
   "source": [
    "Another intersting example is below: "
   ]
  },
  {
   "cell_type": "code",
   "execution_count": 7,
   "metadata": {},
   "outputs": [],
   "source": [
    "fig_pi = numpy.loadtxt(r\"C:\\Users\\renur\\Downloads\\pi-3.txt\")"
   ]
  },
  {
   "cell_type": "code",
   "execution_count": 8,
   "metadata": {},
   "outputs": [],
   "source": [
    "zvals_pi = fig_pi[:,0]+1j*fig_pi[:,1]"
   ]
  },
  {
   "cell_type": "code",
   "execution_count": 9,
   "metadata": {},
   "outputs": [],
   "source": [
    "def calculatec(m,zvals_pi):\n",
    "    length=len(zvals_pi)\n",
    "    index=[i+1 for i in range(length)]\n",
    "    Sum=0+0j\n",
    "    for i in index:\n",
    "        Sum+=zvals_pi[i-1]*numpy.exp(2*1j*-1*m*math.pi*i*(1/(length)))\n",
    "    \n",
    "    return Sum/length"
   ]
  },
  {
   "cell_type": "code",
   "execution_count": 10,
   "metadata": {},
   "outputs": [],
   "source": [
    "def determine_coefficients(zvals_pi, n):\n",
    "    list=[]\n",
    "    for i in range(-n,n+1):\n",
    "        list.append(calculatec(i,zvals_pi))\n",
    "    return list"
   ]
  },
  {
   "cell_type": "code",
   "execution_count": 11,
   "metadata": {
    "scrolled": true
   },
   "outputs": [],
   "source": [
    "import numpy\n",
    "pi_fourier_list = determine_coefficients(zvals_pi, 15)\n"
   ]
  },
  {
   "cell_type": "code",
   "execution_count": 12,
   "metadata": {},
   "outputs": [],
   "source": [
    "def plot_epicycles(pi_fourier_list,length):\n",
    "    times=[i*(1/100) for i in range(101)]\n",
    "    points=[]\n",
    "    for t in times:\n",
    "        Sum= 0\n",
    "        for m in range(-15,16):\n",
    "            Sum+=pi_fourier_list[m+15]*numpy.exp(2j*m*math.pi*t)\n",
    "        points.append(Sum)\n",
    "    return numpy.array(points, dtype=\"complex\")"
   ]
  },
  {
   "cell_type": "code",
   "execution_count": 13,
   "metadata": {},
   "outputs": [],
   "source": [
    "reconstructed_pi = plot_epicycles(pi_fourier_list,15)"
   ]
  },
  {
   "cell_type": "code",
   "execution_count": 14,
   "metadata": {},
   "outputs": [
    {
     "data": {
      "text/plain": [
       "Text(0.5, 1.0, 'pi')"
      ]
     },
     "execution_count": 14,
     "metadata": {},
     "output_type": "execute_result"
    },
    {
     "data": {
      "image/png": "[encoded data removed]",
      "text/plain": [
       "<Figure size 432x288 with 1 Axes>"
      ]
     },
     "metadata": {
      "needs_background": "light"
     },
     "output_type": "display_data"
    }
   ],
   "source": [
    "import matplotlib\n",
    "matplotlib.pyplot.plot(reconstructed_pi.real,reconstructed_pi.imag)\n",
    "matplotlib.pyplot.xlabel('real part')\n",
    "matplotlib.pyplot.ylabel('imag part')\n",
    "matplotlib.pyplot.title('pi')"
   ]
  },
  {
   "cell_type": "code",
   "execution_count": 15,
   "metadata": {},
   "outputs": [],
   "source": [
    "fig_pi = numpy.loadtxt(r\"C:\\Users\\renur\\Downloads\\hut-2.txt\")"
   ]
  },
  {
   "cell_type": "code",
   "execution_count": 16,
   "metadata": {},
   "outputs": [],
   "source": [
    "zvals_pi = fig_pi[:,0]+1j*fig_pi[:,1]"
   ]
  },
  {
   "cell_type": "code",
   "execution_count": 17,
   "metadata": {},
   "outputs": [
    {
     "data": {
      "text/plain": [
       "[(0.22179008322546975+0.2512669662502102j),\n",
       " (0.5146871512958628-0.02407744124080369j),\n",
       " (-0.3720192366441342-0.03155783572782306j),\n",
       " (0.009735426953122222+0.28354165722325214j),\n",
       " (0.00796556009058341+0.26072750129816785j),\n",
       " (0.1545872992625337-0.37795296262224815j),\n",
       " (0.5362221686035855+0.3834249892292939j),\n",
       " (0.3925368644681628-0.7119153191160391j),\n",
       " (0.12935622535356117-1.1725970509094268j),\n",
       " (0.23284991073100775-0.3273551015574951j),\n",
       " (1.1794896750774577-1.2194511512187105j),\n",
       " (-3.998328605111952+3.9987551094708884j),\n",
       " (-0.5283274214635904+0.9299508419227688j),\n",
       " (-9.48223460825867+2.582307044069098j),\n",
       " (1.7232582730835846-3.561153932827535j),\n",
       " (102.46166648148149+91.11839848148149j),\n",
       " (8.111844533900909-41.505775500120976j),\n",
       " (-0.3254646722644936+5.67815979291893j),\n",
       " (-3.66093274675141+5.219370939638437j),\n",
       " (0.19648172694546207+0.5019292995404971j),\n",
       " (-2.790659710986478+2.358709914571004j),\n",
       " (0.7920145250831472+0.41397080763383876j),\n",
       " (-0.8583276495558607+0.15949826854440927j),\n",
       " (0.26180169889727584+0.23643012965731114j),\n",
       " (0.6141495721371396+0.152430418178137j),\n",
       " (-0.15233487311762312+0.18072784758637644j),\n",
       " (0.5448593475637196-0.16109971387316255j),\n",
       " (0.22179008322541816+0.25126696625021466j),\n",
       " (0.5146871512958792-0.024077441240780005j),\n",
       " (-0.37201923664415787-0.03155783572780622j),\n",
       " (0.009735426953131697+0.28354165722327473j)]"
      ]
     },
     "execution_count": 17,
     "metadata": {},
     "output_type": "execute_result"
    }
   ],
   "source": [
    "pi_fourier_list = determine_coefficients(zvals_pi, 15)\n",
    "pi_fourier_list\n"
   ]
  },
  {
   "cell_type": "code",
   "execution_count": 18,
   "metadata": {},
   "outputs": [],
   "source": [
    "reconstructed_pi = plot_epicycles(pi_fourier_list,15)"
   ]
  },
  {
   "cell_type": "code",
   "execution_count": 19,
   "metadata": {
    "scrolled": true
   },
   "outputs": [
    {
     "data": {
      "text/plain": [
       "Text(0.5, 1.0, 'hut')"
      ]
     },
     "execution_count": 19,
     "metadata": {},
     "output_type": "execute_result"
    },
    {
     "data": {
      "image/png": "[encoded data removed]",
      "text/plain": [
       "<Figure size 432x288 with 1 Axes>"
      ]
     },
     "metadata": {
      "needs_background": "light"
     },
     "output_type": "display_data"
    }
   ],
   "source": [
    "matplotlib.pyplot.plot(reconstructed_pi.real,reconstructed_pi.imag)\n",
    "matplotlib.pyplot.xlabel('real part')\n",
    "matplotlib.pyplot.ylabel('imag part')\n",
    "matplotlib.pyplot.title('hut')"
   ]
  },
  {
   "cell_type": "code",
   "execution_count": 20,
   "metadata": {},
   "outputs": [],
   "source": [
    "fig_pi = numpy.loadtxt(r\"C:\\Users\\renur\\Downloads\\curve_para-1-v2.txt\")"
   ]
  },
  {
   "cell_type": "code",
   "execution_count": 21,
   "metadata": {},
   "outputs": [],
   "source": [
    "zvals_pi = fig_pi[:,0]+1j*fig_pi[:,1]"
   ]
  },
  {
   "cell_type": "code",
   "execution_count": 22,
   "metadata": {},
   "outputs": [],
   "source": [
    "pi_fourier_list = determine_coefficients(zvals_pi, 15)"
   ]
  },
  {
   "cell_type": "code",
   "execution_count": 23,
   "metadata": {},
   "outputs": [],
   "source": [
    "reconstructed_pi = plot_epicycles(pi_fourier_list,15)"
   ]
  },
  {
   "cell_type": "code",
   "execution_count": 24,
   "metadata": {},
   "outputs": [
    {
     "data": {
      "text/plain": [
       "Text(0.5, 1.0, 'curve 1')"
      ]
     },
     "execution_count": 24,
     "metadata": {},
     "output_type": "execute_result"
    },
    {
     "data": {
      "image/png": "[encoded data removed]",
      "text/plain": [
       "<Figure size 432x288 with 1 Axes>"
      ]
     },
     "metadata": {
      "needs_background": "light"
     },
     "output_type": "display_data"
    }
   ],
   "source": [
    "matplotlib.pyplot.plot(reconstructed_pi.real,reconstructed_pi.imag)\n",
    "matplotlib.pyplot.xlabel('real part')\n",
    "matplotlib.pyplot.ylabel('imag part')\n",
    "matplotlib.pyplot.title('curve 1')\n"
   ]
  },
  {
   "cell_type": "markdown",
   "metadata": {},
   "source": [
    "## short note on making shapes\n",
    "We will use inkscape program. Draw a shape in inkscape. Save the file as svg, for example 'pi.svg'. From this file, we will extract the path.\n",
    "\n",
    "Run the following command  in a terminal: \n",
    "\n",
    "`grep -v 'inkscape' pi.svg | grep -e cx -e cy  | sed -e 's/\"//g' -e 's/cx=//g' -e 's/cy=//g' -e 's/\\/>//g' > pi.dat`\n",
    "\n",
    "Now check to make sure the final output file `pi.dat` has only numbers and no text! If it has, then manually delete the text.\n",
    "\n",
    "In the Jupyter notebook run the following commands:\n",
    "`curve_pi = loadtxt('pi.dat') # command to load the data` \n",
    "and then \n",
    "`curve_pi = curve_pi.reshape((shape(curve_pi)[0]/2,2))`\n"
   ]
  },
  {
   "cell_type": "code",
   "execution_count": 25,
   "metadata": {},
   "outputs": [],
   "source": [
    "#curve_pi = loadtxt('/tmp/pi.dat')"
   ]
  },
  {
   "cell_type": "code",
   "execution_count": 26,
   "metadata": {},
   "outputs": [],
   "source": [
    "#x_pi = curve_pi[1::4]\n",
    "#y_pi = -curve_pi[::4]\n",
    "#plot(x_pi,y_pi,'-o')"
   ]
  },
  {
   "cell_type": "code",
   "execution_count": null,
   "metadata": {},
   "outputs": [],
   "source": []
  },
  {
   "cell_type": "code",
   "execution_count": null,
   "metadata": {},
   "outputs": [],
   "source": []
  }
 ],
 "metadata": {
  "kernelspec": {
   "display_name": "Python 3 (ipykernel)",
   "language": "python",
   "name": "python3"
  },
  "language_info": {
   "codemirror_mode": {
    "name": "ipython",
    "version": 3
   },
   "file_extension": ".py",
   "mimetype": "text/x-python",
   "name": "python",
   "nbconvert_exporter": "python",
   "pygments_lexer": "ipython3",
   "version": "3.9.7"
  }
 },
 "nbformat": 4,
 "nbformat_minor": 2
}
