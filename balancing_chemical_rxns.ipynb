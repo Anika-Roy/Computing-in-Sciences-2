{
 "cells": [
  {
   "cell_type": "code",
   "execution_count": 18,
   "metadata": {},
   "outputs": [],
   "source": [
    "import re\n",
    "from scipy.linalg import null_space"
   ]
  },
  {
   "cell_type": "code",
   "execution_count": 19,
   "metadata": {},
   "outputs": [
    {
     "name": "stdout",
     "output_type": "stream",
     "text": [
      "Populating the interactive namespace from numpy and matplotlib\n"
     ]
    }
   ],
   "source": [
    "%pylab inline"
   ]
  },
  {
   "cell_type": "code",
   "execution_count": 20,
   "metadata": {},
   "outputs": [],
   "source": [
    "string=\"H 2 + O 2 = H 2 O\""
   ]
  },
  {
   "cell_type": "code",
   "execution_count": 21,
   "metadata": {},
   "outputs": [
    {
     "name": "stdout",
     "output_type": "stream",
     "text": [
      "{'O', 'H'}\n"
     ]
    }
   ],
   "source": [
    "atomList = set(re.split('[ 0-9+=]+',string))\n",
    "print(atomList)\n",
    "al=[]\n",
    "for k in atomList:\n",
    "    al.append(k)"
   ]
  },
  {
   "cell_type": "code",
   "execution_count": 22,
   "metadata": {},
   "outputs": [
    {
     "name": "stdout",
     "output_type": "stream",
     "text": [
      "H 2 + O 2 \n",
      " H 2 O\n"
     ]
    }
   ],
   "source": [
    "#[reactants, products] = (string.split(sep=\"=\"))\n",
    "[reactants, products] = (re.split('=',string))\n",
    "print(reactants)\n",
    "print(products)"
   ]
  },
  {
   "cell_type": "code",
   "execution_count": 23,
   "metadata": {},
   "outputs": [
    {
     "name": "stdout",
     "output_type": "stream",
     "text": [
      "['H 2 ', ' O 2 ']     [' H 2 O']\n"
     ]
    }
   ],
   "source": [
    "react_list= reactants.split(sep=\"+\")\n",
    "prod_list = products.split(sep=\"+\")\n",
    "print(str(react_list),\"   \",str(prod_list) )"
   ]
  },
  {
   "cell_type": "code",
   "execution_count": 24,
   "metadata": {},
   "outputs": [],
   "source": [
    "def fun(chem):\n",
    "    c=list(filter(None,(re.split(' ',chem))))\n",
    "    return c"
   ]
  },
  {
   "cell_type": "code",
   "execution_count": 25,
   "metadata": {},
   "outputs": [],
   "source": [
    "def get_chemicalVector(atom_inp, atom_list):\n",
    "    cc_dict = {}\n",
    "    for atom in atom_list:\n",
    "        cc_dict[atom] = 0\n",
    "    prev = ''\n",
    "    for i in atom_inp.split(' '):\n",
    "        if not i.isnumeric():\n",
    "            cc_dict[i] = 1\n",
    "            prev = i\n",
    "        else:\n",
    "            cc_dict[prev] = i\n",
    "    cc_vect = []\n",
    "    for atm, coeff in cc_dict.items():\n",
    "        cc_vect.append(coeff)\n",
    "    return cc_vect"
   ]
  },
  {
   "cell_type": "code",
   "execution_count": 26,
   "metadata": {},
   "outputs": [
    {
     "name": "stdout",
     "output_type": "stream",
     "text": [
      "['H', '2']\n",
      "[0, 2]\n",
      "['O', '2']\n",
      "[2, 0]\n",
      "['H', '2', 'O']\n",
      "[-1, -2]\n"
     ]
    }
   ],
   "source": [
    "rvec=[]\n",
    "for i in react_list:\n",
    "    a=[]\n",
    "    for k in al:\n",
    "        a.append(0)\n",
    "    c=fun(i)\n",
    "    print(c)\n",
    "    for j in range(0,len(c)):\n",
    "        for k in range(0,len(al)):\n",
    "            if(c[j]==al[k]):\n",
    "                    if(j+1<len(c) and c[j+1]>'0'and c[j+1]<='9'):\n",
    "                        a[k]=int(c[j+1])\n",
    "                    else:\n",
    "                        a[k]=1\n",
    "                    break\n",
    "    rvec.append(a)\n",
    "    print(a)\n",
    "pvec=[]\n",
    "for i in prod_list:\n",
    "    a=[]\n",
    "    for k in al:\n",
    "        a.append(0)\n",
    "    c=fun(i)\n",
    "    print (c)\n",
    "    for j in range(0,len(c)):\n",
    "        for k in range(0,len(al)):\n",
    "            if(c[j]==al[k]):\n",
    "                    if(j+1<len(c) and c[j+1]>'0'and c[j+1]<='9'):\n",
    "                        a[k]=-1*int(c[j+1])\n",
    "                    else:\n",
    "                        a[k]=-1\n",
    "                    break\n",
    "    pvec.append(a)\n",
    "    print(a)"
   ]
  },
  {
   "cell_type": "code",
   "execution_count": 27,
   "metadata": {},
   "outputs": [],
   "source": [
    "import numpy as np"
   ]
  },
  {
   "cell_type": "code",
   "execution_count": 28,
   "metadata": {},
   "outputs": [],
   "source": [
    "m = []\n",
    "for element in react_list + prod_list:\n",
    "    m.append(array(get_chemicalVector(element.strip(), atomList)))\n",
    "m = array(m)\n"
   ]
  },
  {
   "cell_type": "code",
   "execution_count": null,
   "metadata": {},
   "outputs": [],
   "source": []
  },
  {
   "cell_type": "code",
   "execution_count": 29,
   "metadata": {},
   "outputs": [
    {
     "name": "stdout",
     "output_type": "stream",
     "text": [
      "coffecients:\n",
      "[-2. -1.  2.]\n"
     ]
    }
   ],
   "source": [
    "s = null_space(m.transpose()).flatten()\n",
    "s=s/amin(s)\n",
    "x=1\n",
    "for i in s:\n",
    "    if(i*i<1):\n",
    "        x=x*i\n",
    "for i in range(0,len(s)):\n",
    "    s[i]=int(s[i]/x)\n",
    "print(\"coffecients:\")\n",
    "print(s)"
   ]
  },
  {
   "cell_type": "code",
   "execution_count": null,
   "metadata": {},
   "outputs": [],
   "source": []
  },
  {
   "cell_type": "code",
   "execution_count": 30,
   "metadata": {},
   "outputs": [],
   "source": [
    "def print_balanced_eq(s):\n",
    "    count=0\n",
    "    final_string=\"\"\n",
    "    for i in react_list:\n",
    "        final_string+=str(int(s[count]*-1)) + \" \" + i \n",
    "        count+=1\n",
    "        if(count<len(react_list)):\n",
    "            final_string+=\" + \"\n",
    "       \n",
    "    final_string+=\" = \"\n",
    "    for i in prod_list:\n",
    "        final_string+=str(int(s[count]*1)) + \" \" + i \n",
    "        count+=1\n",
    "        if(count<len(react_list)):\n",
    "           final_string+=\" + \" \n",
    "    print(final_string)\n",
    "    "
   ]
  },
  {
   "cell_type": "code",
   "execution_count": 31,
   "metadata": {},
   "outputs": [],
   "source": [
    "string=\"H 2 + O 2 = H 2 O\""
   ]
  },
  {
   "cell_type": "code",
   "execution_count": 32,
   "metadata": {},
   "outputs": [],
   "source": [
    "def final_function():\n",
    "    atom_list = set(re.split('[ 0-9+=]+', string))\n",
    "    [reactants, products] = (re.split('=', string))\n",
    "    r = reactants.split(sep = \"+\")\n",
    "    p = products.split(sep = \"+\")\n",
    "    m = []\n",
    "    for element in r + p:\n",
    "        m.append(array(get_chemicalVector(element.strip(), atom_list)))\n",
    "    m = array(m)\n",
    "    s = null_space(m.transpose()).flatten()\n",
    "    s=s/min(s)\n",
    "    x=1\n",
    "    for i in s:\n",
    "        if(i*i<1):\n",
    "            x=x*i\n",
    "    for i in range(0,len(s)):\n",
    "        s[i]=int(s[i]/x)\n",
    "    print_balanced_eq(s)"
   ]
  },
  {
   "cell_type": "code",
   "execution_count": 33,
   "metadata": {
    "scrolled": false
   },
   "outputs": [
    {
     "name": "stdout",
     "output_type": "stream",
     "text": [
      "2 H 2  + 1  O 2  = 2  H 2 O\n"
     ]
    }
   ],
   "source": [
    "final_function()"
   ]
  },
  {
   "cell_type": "code",
   "execution_count": 34,
   "metadata": {
    "scrolled": true
   },
   "outputs": [],
   "source": [
    "#K Mn O 4 + H 2 O 2 = Mn O 2 + H 2 O + O 2 + K O H\n"
   ]
  }
 ],
 "metadata": {
  "kernelspec": {
   "display_name": "Python 3 (ipykernel)",
   "language": "python",
   "name": "python3"
  },
  "language_info": {
   "codemirror_mode": {
    "name": "ipython",
    "version": 3
   },
   "file_extension": ".py",
   "mimetype": "text/x-python",
   "name": "python",
   "nbconvert_exporter": "python",
   "pygments_lexer": "ipython3",
   "version": "3.9.7"
  }
 },
 "nbformat": 4,
 "nbformat_minor": 2
}
